{
 "cells": [
  {
   "cell_type": "code",
   "execution_count": 1,
   "metadata": {},
   "outputs": [
    {
     "name": "stderr",
     "output_type": "stream",
     "text": [
      "C:\\ProgramData\\Anaconda3\\lib\\site-packages\\sklearn\\externals\\joblib\\__init__.py:15: DeprecationWarning: sklearn.externals.joblib is deprecated in 0.21 and will be removed in 0.23. Please import this functionality directly from joblib, which can be installed with: pip install joblib. If this warning is raised when loading pickled models, you may need to re-serialize those models with scikit-learn 0.21+.\n",
      "  warnings.warn(msg, category=DeprecationWarning)\n"
     ]
    }
   ],
   "source": [
    "import os\n",
    "import numpy as np\n",
    "import pandas as pd\n",
    "import warnings\n",
    "warnings.filterwarnings(action=\"ignore\",category=DeprecationWarning)\n",
    "warnings.filterwarnings(action=\"ignore\",category=FutureWarning)\n",
    "from scipy.misc import imread\n",
    "import numpy as np\n",
    "import matplotlib.pyplot as plt\n",
    "from sklearn import svm\n",
    "from sklearn.metrics import accuracy_score\n",
    "from sklearn.preprocessing import LabelEncoder\n",
    "from sklearn.externals import joblib \n",
    "%matplotlib inline\n",
    "\n"
   ]
  },
  {
   "cell_type": "code",
   "execution_count": 29,
   "metadata": {},
   "outputs": [],
   "source": [
    "root_dir = os.getcwd()\n",
    "img_dir = [os.path.join(root_dir, 'train'),os.path.join(root_dir, 'test')]\n",
    "\n",
    "pixels = np.array(['pixel_{:03d}'.format(x) for x in range(784)])\n",
    "\n",
    "for i in range(0,2):\n",
    "    for char_name in sorted(os.listdir(img_dir[i])):\n",
    "        char_dir = os.path.join(img_dir[i], char_name)\n",
    "        img_df = pd.DataFrame(columns=pixels)\n",
    "\n",
    "        for img_file in sorted(os.listdir(char_dir)):\n",
    "            image = imread(os.path.join(char_dir, img_file))\n",
    "            image = image[2:30,2:30]\n",
    "            image = pd.Series(image.flatten(),index = pixels)\n",
    "            img_df = img_df.append(image.T, ignore_index=True)\n",
    "\n",
    "        img_df = img_df.astype(np.uint8)\n",
    "        img_df['character'] = char_name\n",
    "        \n",
    "        if(i==0):\n",
    "            img_df.to_csv('data.csv', index=False, mode='a', header=flag)\n",
    "        else:\n",
    "            img_df.to_csv('data_test.csv', index=False, mode='a', header=flag)        "
   ]
  },
  {
   "cell_type": "code",
   "execution_count": 30,
   "metadata": {},
   "outputs": [],
   "source": [
    "df = pd.read_csv('data.csv')\n",
    "\n",
    "df['character_class'] = LabelEncoder().fit_transform(df.character)\n",
    "df.drop('character', axis=1, inplace=True)\n",
    "df = df.astype(np.uint8)\n",
    "\n",
    "df_test = pd.read_csv('data_test.csv')\n",
    "\n",
    "df_test['character_class'] = LabelEncoder().fit_transform(df_test.character)\n",
    "df_test.drop('character', axis=1, inplace=True)\n",
    "df_test = df_test.astype(np.uint8)\n",
    "\n",
    "# Dimension of df is: [78200 x 1025]\n",
    "# 1700  =  (85%) of 2000 (each class has 2000 samples)\n",
    "# 78200 =  1700*46 characters \n",
    "# 46    =  number of classes\n",
    "# 1025  = 32*32 = 1024 feature columns, one output column\n",
    "\n",
    "#@@@@@@@@@@@@@@@@@@@@@@@@@@@@@@@@@@@@@@@@@@@@@@@@@@@@@@@@@@\n",
    "cor = df.corr()"
   ]
  },
  {
   "cell_type": "code",
   "execution_count": 39,
   "metadata": {},
   "outputs": [],
   "source": [
    "\n",
    "cor_target = abs(cor.iloc[784])\n",
    "cor_target = cor_target.to_numpy()\n",
    "cor_target = cor_target[0:783]\n",
    "# plt.figure()\n",
    "# plt.title('Correlation of features with output class')\n",
    "# plt.xlabel('Pixel Number')\n",
    "# plt.ylabel('Correlation')\n",
    "# plt.plot(cor_target)\n",
    "# plt.savefig('correlation.png')\n",
    "to_delete = []\n",
    "for i,j in enumerate(cor_target):\n",
    "    if(j<0.009):\n",
    "        to_delete.append(i)\n",
    "# print(to_delete)\n",
    "relevant_features = cor_target[cor_target>0.009]\n",
    "# print(relevant_features.shape)"
   ]
  },
  {
   "cell_type": "code",
   "execution_count": 38,
   "metadata": {},
   "outputs": [
    {
     "name": "stdout",
     "output_type": "stream",
     "text": [
      "(13800, 724)\n"
     ]
    }
   ],
   "source": [
    "dataset = df.to_numpy()\n",
    "dataset_test = df_test.to_numpy()\n",
    "dataset = np.delete(dataset, to_delete,axis=1)\n",
    "dataset_test = np.delete(dataset_test,to_delete,axis =1)\n",
    "#@@@@@@@@@@@@@@@@@@@@@@@@@@@@@@@@@@@@@@@@@@@@@@@@@@@@@@@@@\n",
    "\n",
    "np.random.shuffle(dataset)\n",
    "np.random.shuffle(dataset_test)\n",
    "# print(dataset)\n",
    "# print(dataset.shape)\n",
    "X_train = dataset[0:10000,:-1]\n",
    "Y_train = dataset[0:10000, -1]\n",
    "# X_validation = dataset[2000:2820,:-1]\n",
    "# Y_validation = dataset[2000:2820, -1]\n",
    "X_test  = dataset_test[0:5000,:-1]\n",
    "Y_test  = dataset_test[0:5000, -1]\n",
    "\n",
    "\n"
   ]
  },
  {
   "cell_type": "code",
   "execution_count": 35,
   "metadata": {},
   "outputs": [],
   "source": [
    "def classifier(X_train,Y_train, X_test, Y_test, kernel_type, decFuncShape):\n",
    "    print(kernel_type,\" kernel\", \" & \", decFuncShape , \" classification method\" )\n",
    "#     kf = KFold(n_splits = 5, shuffle = False)\n",
    "#     fold_count = 1\n",
    "#     for train_index, validation_index in kf.split(X_train):\n",
    "#         print(\"Fold : \", fold_count)\n",
    "#         X_train_fold, X_validation_fold = X_train[train_index], X_train[validation_index]\n",
    "#         Y_train_fold, Y_validation_fold = Y_train[train_index], Y_train[validation_index]\n",
    "\n",
    "    if(kernel_type == 'rbf'):\n",
    "        clf = svm.SVC(kernel = kernel_type, gamma = 'scale', C=1,decision_function_shape=decFuncShape,probability = True).fit(X_train, Y_train)\n",
    "        joblib.dump(clf, 'RBF_10K.pkl')\n",
    "    elif(kernel_type == 'poly'):\n",
    "        clf = svm.SVC(kernel = kernel_type, degree = 2, C=1,decision_function_shape=decFuncShape,probability = True).fit(X_train, Y_train)\n",
    "        joblib.dump(clf, 'POLY_10K.pkl')\n",
    "    elif(kernel_type == 'linear'):\n",
    "        clf = svm.SVC(kernel = kernel_type, C=1,decision_function_shape=decFuncShape, probability = True).fit(X_train, Y_train)\n",
    "        joblib.dump(clf, 'LINEAR_10K.pkl')\n",
    "    else:\n",
    "        print(\"Invalid kernel\")\n",
    " \n",
    "    y_pred = clf.predict(X_test)\n",
    "    acc = accuracy_score(Y_test, y_pred) * 100\n",
    "    print(\"Accuracy : \", acc , \"%\")\n",
    "    \n",
    "#         fold_count+=1"
   ]
  },
  {
   "cell_type": "code",
   "execution_count": 36,
   "metadata": {},
   "outputs": [
    {
     "name": "stdout",
     "output_type": "stream",
     "text": [
      "poly  kernel  &  ovr  classification method\n",
      "Accuracy :  82.92 %\n"
     ]
    }
   ],
   "source": [
    "if __name__ == '__main__':\n",
    "    #SVM WITH NO KERNEL\n",
    "#     classifier(X_train,Y_train,X_test,Y_test,'linear','ovr')  #ONE-VS-ALL CLASSIFICATION METHOD\n",
    "# #     classifier(X_train,Y_train,X_validation,Y_validation,'linear','ovo')  #ONE-VS-ONE CLASSIFICATION METHOD\n",
    "\n",
    "#     #SVM WITH RBF KERNEL\n",
    "#     classifier(X_train,Y_train,X_test,Y_test,'rbf','ovr')     #ONE-VS-ALL CLASSIFICATION METHOD\n",
    "# #     classifier(X_train,Y_train,X_validation,Y_validation,'rbf','ovo')     #ONE-VS-ONE CLASSIFICATION METHOD\n",
    "\n",
    "#     #SVM WITH QUADRATIC POLYNOMIAL KERNEL\n",
    "    classifier(X_train,Y_train,X_test,Y_test,'poly','ovr')    #ONE-VS-ALL CLASSIFICATION METHOD\n",
    "#     classifier(X_train,Y_train,X_test,Y_test,'poly','ovo')    #ONE-VS-ONE CLASSIFICATION METHOD"
   ]
  },
  {
   "cell_type": "code",
   "execution_count": null,
   "metadata": {},
   "outputs": [],
   "source": []
  }
 ],
 "metadata": {
  "kernelspec": {
   "display_name": "Python 3",
   "language": "python",
   "name": "python3"
  },
  "language_info": {
   "codemirror_mode": {
    "name": "ipython",
    "version": 3
   },
   "file_extension": ".py",
   "mimetype": "text/x-python",
   "name": "python",
   "nbconvert_exporter": "python",
   "pygments_lexer": "ipython3",
   "version": "3.7.3"
  }
 },
 "nbformat": 4,
 "nbformat_minor": 2
}
