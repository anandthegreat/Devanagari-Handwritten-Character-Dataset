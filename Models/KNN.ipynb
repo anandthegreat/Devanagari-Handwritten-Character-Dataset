{
 "cells": [
  {
   "cell_type": "code",
   "execution_count": 13,
   "metadata": {},
   "outputs": [],
   "source": [
    "import warnings\n",
    "warnings.filterwarnings(action=\"ignore\",category=DeprecationWarning)\n",
    "warnings.filterwarnings(action=\"ignore\",category=FutureWarning)\n",
    "from sklearn.neighbors import KNeighborsClassifier\n",
    "from sklearn.metrics import accuracy_score\n",
    "from sklearn.model_selection import GridSearchCV\n",
    "from sklearn.externals import joblib\n",
    "import numpy as np\n",
    "import pandas as pd\n",
    "import pickle\n",
    "from sklearn.utils import shuffle\n",
    "import matplotlib.pyplot as plt\n",
    "\n",
    "%matplotlib inline"
   ]
  },
  {
   "cell_type": "code",
   "execution_count": 23,
   "metadata": {},
   "outputs": [
    {
     "name": "stdout",
     "output_type": "stream",
     "text": [
      "Training data:  (78200, 785)\n",
      "(15640, 784) (15640,)\n",
      "(2760, 784) (2760,)\n"
     ]
    }
   ],
   "source": [
    "data = pd.read_csv('data.csv')\n",
    "print(\"Training data: \", data.shape)\n",
    "\n",
    "data = shuffle(data)\n",
    "X_train = data.drop(columns='character').iloc[0:15640]\n",
    "# print(X_train)\n",
    "\n",
    "Y_train = data[['character']].iloc[0:15640]\n",
    "Y_train = Y_train.values.ravel()\n",
    "# print(type(Y_train))\n",
    "# print(Y_train[0])\n",
    "# Sampling Training Set\n",
    "# sample_data = np.zeros(shape=(15640, 784))\n",
    "# sample_label = []\n",
    "#\n",
    "# # print(type(sample_label))\n",
    "# # print(sample_label[0])\n",
    "#\n",
    "# x = 0\n",
    "# for i in range(0, 78200, 1700):\n",
    "#     for j in range(i, i+340):\n",
    "#         sample_data[x] = X_train.loc[j, :]\n",
    "#         sample_label.append(Y_train[j])\n",
    "#         x = x+1\n",
    "\n",
    "# print(sample_data.shape)\n",
    "# print(len(sample_label))\n",
    "\n",
    "data = pd.read_csv('data_test.csv')\n",
    "data = shuffle(data)\n",
    "# print(\"Testing data: \", data.shape)\n",
    "X_test = data.drop(columns='character').iloc[0:2760]\n",
    "Y_test = data[['character']].iloc[0:2760].values.ravel()\n",
    "\n",
    "# Sampling Test Set\n",
    "# test_data = np.zeros(shape=(2760, 784))\n",
    "# test_label = []\n",
    "#\n",
    "# x = 0\n",
    "# for i in range(0, 13800, 300):\n",
    "#     for j in range(i, i+60):\n",
    "#         test_data[x] = X_test.loc[j, :]\n",
    "#         test_label.append(Y_test[j])\n",
    "#         x = x + 1\n",
    "\n",
    "# print(test_data.shape, test_data)\n",
    "# print(test_label)\n",
    "\n",
    "# X_train = sample_data\n",
    "# Y_train = np.array(sample_label)\n",
    "#\n",
    "# X_test = test_data\n",
    "# Y_test = np.array(test_label)\n",
    "\n",
    "print(X_train.shape, Y_train.shape)\n",
    "print(X_test.shape, Y_test.shape)"
   ]
  },
  {
   "cell_type": "code",
   "execution_count": 25,
   "metadata": {},
   "outputs": [
    {
     "name": "stdout",
     "output_type": "stream",
     "text": [
      "Accuracy on test data:  83.07971014492753\n"
     ]
    },
    {
     "data": {
      "image/png": "[encoded data removed]",
      "text/plain": [
       "<Figure size 432x288 with 1 Axes>"
      ]
     },
     "metadata": {
      "needs_background": "light"
     },
     "output_type": "display_data"
    }
   ],
   "source": [
    "# parameters = {'n_neighbors': np.arange(1, 22, 4)}\n",
    "# model = GridSearchCV(KNeighborsClassifier(), parameters)\n",
    "\n",
    "# model.fit(X_train, Y_train)\n",
    "model = joblib.load('KNN_15640_2760.pkl')  \n",
    "  \n",
    "# Use the loaded model to make predictions \n",
    "model.predict(X_test) \n",
    "\n",
    "# joblib.dump(model, 'KNN_15640_2760.pkl')\n",
    "result = pd.DataFrame.from_dict(model.cv_results_)\n",
    "\n",
    "plt.figure()\n",
    "plt.title('K-Nearest Neighbors Classifier')\n",
    "plt.xlabel('No. of Neighbors')\n",
    "plt.ylabel('Accuracy')\n",
    "\n",
    "\n",
    "plt.plot(result.param_n_neighbors, result.mean_test_score*100, marker='o',markerfacecolor='red',label='Mean Accuracy')\n",
    "plt.legend()\n",
    "\n",
    "\n",
    "# model = KNeighborsClassifier(n_neighbors=1)\n",
    "# model.fit(X_train, Y_train)\n",
    "# predicted = model.predict(X_train)\n",
    "# print(\"Accuracy on train data:\", accuracy_score(predicted, Y_train)*100)\n",
    "\n",
    "predicted = model.predict(X_test)\n",
    "print(\"Accuracy on test data: \", accuracy_score(predicted, Y_test)*100)\n"
   ]
  },
  {
   "cell_type": "code",
   "execution_count": null,
   "metadata": {},
   "outputs": [],
   "source": []
  }
 ],
 "metadata": {
  "kernelspec": {
   "display_name": "Python 3",
   "language": "python",
   "name": "python3"
  },
  "language_info": {
   "codemirror_mode": {
    "name": "ipython",
    "version": 3
   },
   "file_extension": ".py",
   "mimetype": "text/x-python",
   "name": "python",
   "nbconvert_exporter": "python",
   "pygments_lexer": "ipython3",
   "version": "3.7.3"
  }
 },
 "nbformat": 4,
 "nbformat_minor": 2
}
